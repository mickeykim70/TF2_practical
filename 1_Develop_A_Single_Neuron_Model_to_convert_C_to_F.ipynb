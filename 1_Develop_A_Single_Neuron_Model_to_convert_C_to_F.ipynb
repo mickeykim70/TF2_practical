{
  "nbformat": 4,
  "nbformat_minor": 0,
  "metadata": {
    "colab": {
      "provenance": [],
      "authorship_tag": "ABX9TyPiaETH49OevoTygh/Mm/jz",
      "include_colab_link": true
    },
    "kernelspec": {
      "name": "python3",
      "display_name": "Python 3"
    },
    "language_info": {
      "name": "python"
    }
  },
  "cells": [
    {
      "cell_type": "markdown",
      "metadata": {
        "id": "view-in-github",
        "colab_type": "text"
      },
      "source": [
        "<a href=\"https://colab.research.google.com/github/mickeykim70/TF2_practical/blob/main/1_Develop_A_Single_Neuron_Model_to_convert_C_to_F.ipynb\" target=\"_parent\"><img src=\"https://colab.research.google.com/assets/colab-badge.svg\" alt=\"Open In Colab\"/></a>"
      ]
    },
    {
      "cell_type": "markdown",
      "source": [
        "# Problem Statement\n",
        "\n",
        "*   C -> F 로 바꾸어 주는 간단한 머신러닝 모델 구축\n",
        "*   T(F) = T(C) * 9/5 + 32"
      ],
      "metadata": {
        "id": "jyALLwRnf2K_"
      }
    },
    {
      "cell_type": "markdown",
      "source": [
        "<table>\n",
        "  <tr><td>\n",
        "    <img src=\"https://upload.wikimedia.org/wikipedia/commons/7/70/Thermometer_CF.svg\"\n",
        "         alt=\"Fashion MNIST sprite\"  width=\"600\">\n",
        "  </td></tr>\n",
        "  <tr><td align=\"center\">\n",
        "    <b>Figure 1. Convert Celsius to Fahrenheit [Image Source: https://commons.wikimedia.org/wiki/File:Thermometer_CF.svg]\n",
        "  </td></tr>\n",
        "</table>"
      ],
      "metadata": {
        "id": "1WvrZQIFczmp"
      }
    },
    {
      "cell_type": "markdown",
      "source": [
        "## STEP 0: Import Libraries"
      ],
      "metadata": {
        "id": "l8HrpGcogkVh"
      }
    },
    {
      "cell_type": "code",
      "source": [
        "import tensorflow as tf\n",
        "import pandas as pd\n",
        "import numpy as np\n",
        "import seaborn as sns\n",
        "import matplotlib.pyplot as plt"
      ],
      "metadata": {
        "id": "bIMWDplScvA8"
      },
      "execution_count": 3,
      "outputs": []
    },
    {
      "cell_type": "code",
      "source": [],
      "metadata": {
        "id": "V0GimiZ-g2e5"
      },
      "execution_count": null,
      "outputs": []
    }
  ]
}